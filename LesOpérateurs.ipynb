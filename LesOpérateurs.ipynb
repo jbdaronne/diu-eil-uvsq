{
 "cells": [
  {
   "cell_type": "markdown",
   "metadata": {},
   "source": [
    "# Les opérateurs"
   ]
  },
  {
   "cell_type": "markdown",
   "metadata": {},
   "source": [
    "    1. Les opérateurs mathématiques"
   ]
  },
  {
   "cell_type": "markdown",
   "metadata": {},
   "source": [
    "     a. Les opérateurs arithmétiques"
   ]
  },
  {
   "cell_type": "markdown",
   "metadata": {},
   "source": [
    "Il existe 4 opérateurs arithmétiques : + ; - ; * et /"
   ]
  },
  {
   "cell_type": "code",
   "execution_count": 9,
   "metadata": {},
   "outputs": [
    {
     "name": "stdout",
     "output_type": "stream",
     "text": [
      "5\n"
     ]
    }
   ],
   "source": [
    "# Exemple\n",
    "a=2\n",
    "a=a+3\n",
    "print(a)"
   ]
  },
  {
   "cell_type": "code",
   "execution_count": 10,
   "metadata": {},
   "outputs": [
    {
     "name": "stdout",
     "output_type": "stream",
     "text": [
      "-5\n"
     ]
    }
   ],
   "source": [
    "# Exemple\n",
    "a=2\n",
    "b=7\n",
    "print(a-b)"
   ]
  },
  {
   "cell_type": "code",
   "execution_count": 11,
   "metadata": {},
   "outputs": [
    {
     "name": "stdout",
     "output_type": "stream",
     "text": [
      "x= 14\n"
     ]
    }
   ],
   "source": [
    "# Exemple\n",
    "a=2\n",
    "b=4\n",
    "print(\"x=\",a+3*b)"
   ]
  },
  {
   "cell_type": "code",
   "execution_count": 12,
   "metadata": {},
   "outputs": [
    {
     "name": "stdout",
     "output_type": "stream",
     "text": [
      "2.6666666666666665\n"
     ]
    }
   ],
   "source": [
    "# Exemple\n",
    "a=8\n",
    "a=a/3\n",
    "print(a)"
   ]
  },
  {
   "cell_type": "code",
   "execution_count": null,
   "metadata": {},
   "outputs": [],
   "source": [
    "# Exercice 1\n",
    "# 1°) Créer une variable que vous appellerez x et qui sera initialisée à 5\n",
    "\n",
    "# 2°) A l'aide de la variable x et de chaînes de caractères, \n",
    "#   tapez la ligne de code pour qu'il s'affiche : Le triple de 5 est 15. \n",
    "#   Remarque : 5 et 15 doit être passés par des variables\n"
   ]
  },
  {
   "cell_type": "markdown",
   "metadata": {},
   "source": [
    "    b. Autres opérateurs"
   ]
  },
  {
   "cell_type": "markdown",
   "metadata": {},
   "source": [
    "Il existe d'autres opérateurs comme % et //.\n",
    "a%b renvoie le reste de la division euclidienne de a par b"
   ]
  },
  {
   "cell_type": "code",
   "execution_count": 15,
   "metadata": {},
   "outputs": [
    {
     "name": "stdout",
     "output_type": "stream",
     "text": [
      "Le reste de la division de 5 par 2 est 1\n"
     ]
    }
   ],
   "source": [
    "# Exemple \n",
    "x=5\n",
    "y=2\n",
    "print(\"Le reste de la division de\",x,\"par\",y,\"est\",x%y)"
   ]
  },
  {
   "cell_type": "markdown",
   "metadata": {},
   "source": [
    "a//b effectue la division entière de a par b "
   ]
  },
  {
   "cell_type": "code",
   "execution_count": 17,
   "metadata": {},
   "outputs": [
    {
     "name": "stdout",
     "output_type": "stream",
     "text": [
      "2\n"
     ]
    }
   ],
   "source": [
    "# Exemple\n",
    "print(8//3)"
   ]
  },
  {
   "cell_type": "markdown",
   "metadata": {},
   "source": [
    "On peut également calculer la puissance d'un nombre à l'aide de l'opérateur **."
   ]
  },
  {
   "cell_type": "code",
   "execution_count": 18,
   "metadata": {},
   "outputs": [
    {
     "name": "stdout",
     "output_type": "stream",
     "text": [
      "8 9\n"
     ]
    }
   ],
   "source": [
    "#Exemple\n",
    "x=2\n",
    "y=3\n",
    "print(x**3,y**2)"
   ]
  },
  {
   "cell_type": "code",
   "execution_count": null,
   "metadata": {},
   "outputs": [],
   "source": [
    "# Exercice 2\n",
    "# 1°) A l'aide de variables et de chaînes de caractères, \n",
    "#   tapez la ligne de code pour qu'il s'affiche : Le reste de la division euclidienne de 93 par 13 . \n",
    "#   Remarque : 93 et 13 doit être passés par des variables\n",
    "\n",
    "# 2°) Renvoyer la division entière de 93 par 13\n",
    "\n"
   ]
  },
  {
   "cell_type": "markdown",
   "metadata": {},
   "source": [
    "    2. Les opérateurs de comparaison"
   ]
  },
  {
   "cell_type": "markdown",
   "metadata": {},
   "source": [
    "     a. Opérateur d'égalité"
   ]
  },
  {
   "cell_type": "markdown",
   "metadata": {},
   "source": [
    "Pour comparer deux valeurs, l'opérateur de comparaison est =="
   ]
  },
  {
   "cell_type": "code",
   "execution_count": 1,
   "metadata": {},
   "outputs": [
    {
     "name": "stdout",
     "output_type": "stream",
     "text": [
      "False\n",
      "True\n"
     ]
    }
   ],
   "source": [
    "# Exemple\n",
    "x=2\n",
    "y=3\n",
    "z=2\n",
    "print(x==y)\n",
    "print(x==z)"
   ]
  },
  {
   "cell_type": "markdown",
   "metadata": {},
   "source": [
    "Remarque : Les opérateurs de comparaison renvoient un booléen ( True  ou  False )"
   ]
  },
  {
   "cell_type": "code",
   "execution_count": null,
   "metadata": {},
   "outputs": [],
   "source": [
    "# Exercice 3\n",
    "# 1°) Déclarer et initialiser deux variables de type nombre\n",
    "\n",
    "\n",
    "# 2°) Taper la ligne de code de sorte qu'il s'affiche : \"Vrai ou Faux, vos deux entiers sont égaux ? \"\n",
    "#                                                       \" Réponse : \"\n",
    "# Remarque : Dans le deucième affiche, il faut afficher à l'aide de variables la réponse à la question.\n",
    "\n"
   ]
  },
  {
   "cell_type": "markdown",
   "metadata": {},
   "source": [
    "     b. Opérateur de différence"
   ]
  },
  {
   "cell_type": "code",
   "execution_count": 20,
   "metadata": {},
   "outputs": [
    {
     "name": "stdout",
     "output_type": "stream",
     "text": [
      "2 est différent de 3\n"
     ]
    }
   ],
   "source": [
    "# Exemple\n",
    "if 2!=3:\n",
    "    print(\"2 est différent de 3\")\n",
    "else:\n",
    "    print(\"2 est égal à 3\")"
   ]
  },
  {
   "cell_type": "code",
   "execution_count": null,
   "metadata": {},
   "outputs": [],
   "source": [
    "# Exercice 4\n",
    "# 1°) Demander un premier entier à l'utilisateur. Vous stockerez le résultat dans la varaible monPremierEntier\n",
    "\n",
    "# 2°) Demander un deuxième entier à l'utilisateur. Vous stockerez le résultat dans la varaible monDeuxiemeEntier\n",
    "\n",
    "# 3°) Taper les lignes de code de sorte que :\n",
    "# si les deux entiers ne sont pas égaux\n",
    "# alors il s'affiche: Vos entiers ne sont pas égaux\n",
    "# sinon il s'affiche : Vos entiers sont égaux\n",
    "\n",
    "\n"
   ]
  },
  {
   "cell_type": "markdown",
   "metadata": {},
   "source": [
    "     c. Opérateurs de comparaison"
   ]
  },
  {
   "cell_type": "code",
   "execution_count": 21,
   "metadata": {},
   "outputs": [
    {
     "name": "stdout",
     "output_type": "stream",
     "text": [
      "True\n"
     ]
    }
   ],
   "source": [
    "#Exemple\n",
    "print(2>=1)"
   ]
  },
  {
   "cell_type": "code",
   "execution_count": 22,
   "metadata": {},
   "outputs": [
    {
     "name": "stdout",
     "output_type": "stream",
     "text": [
      "False\n"
     ]
    }
   ],
   "source": [
    "#Exemple\n",
    "print(3<2)"
   ]
  },
  {
   "cell_type": "code",
   "execution_count": 25,
   "metadata": {},
   "outputs": [
    {
     "name": "stdin",
     "output_type": "stream",
     "text": [
      "x= 2\n",
      "y= 3\n"
     ]
    },
    {
     "name": "stdout",
     "output_type": "stream",
     "text": [
      "x*y= 6\n"
     ]
    }
   ],
   "source": [
    "x=int(input(\"x=\"))\n",
    "y=int(input(\"y=\"))\n",
    "print(\"x*y=\",x*y)"
   ]
  },
  {
   "cell_type": "code",
   "execution_count": null,
   "metadata": {},
   "outputs": [],
   "source": [
    "# Exercice 5\n",
    "# 1°) Créer une variable appelée age de type nombre.\n",
    "\n",
    "# 2°) Taper les lignes de code de sorte que :\n",
    "# si age est plus grand ou égal à 18\n",
    "# alors il s'affiche : \"vous êtes majeur\"\n",
    "# sinon il s'affiche : \"vous êtes mineur\"\n",
    "\n",
    "\n",
    "\n"
   ]
  },
  {
   "cell_type": "markdown",
   "metadata": {},
   "source": [
    "    3.Les erreurs possibles avec des opérateurs"
   ]
  },
  {
   "cell_type": "markdown",
   "metadata": {},
   "source": [
    "     a. opérateur entre deux objets de types différents"
   ]
  },
  {
   "cell_type": "markdown",
   "metadata": {},
   "source": [
    "On ne peut pas dans le cas général faire des opérations ente deux objets qui n'ont pas le même type."
   ]
  },
  {
   "cell_type": "code",
   "execution_count": 2,
   "metadata": {},
   "outputs": [
    {
     "ename": "TypeError",
     "evalue": "unsupported operand type(s) for +: 'int' and 'str'",
     "output_type": "error",
     "traceback": [
      "\u001b[0;31m---------------------------------------------------------------------------\u001b[0m",
      "\u001b[0;31mTypeError\u001b[0m                                 Traceback (most recent call last)",
      "\u001b[0;32m<ipython-input-2-724f001b79de>\u001b[0m in \u001b[0;36m<module>\u001b[0;34m()\u001b[0m\n\u001b[1;32m      2\u001b[0m \u001b[0ma\u001b[0m\u001b[0;34m=\u001b[0m\u001b[0;36m2\u001b[0m\u001b[0;34m\u001b[0m\u001b[0m\n\u001b[1;32m      3\u001b[0m \u001b[0mb\u001b[0m\u001b[0;34m=\u001b[0m\u001b[0;34m\"salut\"\u001b[0m\u001b[0;34m\u001b[0m\u001b[0m\n\u001b[0;32m----> 4\u001b[0;31m \u001b[0mprint\u001b[0m\u001b[0;34m(\u001b[0m\u001b[0ma\u001b[0m\u001b[0;34m+\u001b[0m\u001b[0mb\u001b[0m\u001b[0;34m)\u001b[0m\u001b[0;34m\u001b[0m\u001b[0m\n\u001b[0m",
      "\u001b[0;31mTypeError\u001b[0m: unsupported operand type(s) for +: 'int' and 'str'"
     ]
    }
   ],
   "source": [
    "#Exemple\n",
    "a=2\n",
    "b=\"salut\"\n",
    "print(a+b)"
   ]
  },
  {
   "cell_type": "code",
   "execution_count": 1,
   "metadata": {},
   "outputs": [
    {
     "ename": "TypeError",
     "evalue": "unsupported operand type(s) for +: 'int' and 'tuple'",
     "output_type": "error",
     "traceback": [
      "\u001b[0;31m---------------------------------------------------------------------------\u001b[0m",
      "\u001b[0;31mTypeError\u001b[0m                                 Traceback (most recent call last)",
      "\u001b[0;32m<ipython-input-1-a9c38d337230>\u001b[0m in \u001b[0;36m<module>\u001b[0;34m()\u001b[0m\n\u001b[1;32m      2\u001b[0m \u001b[0ma\u001b[0m\u001b[0;34m=\u001b[0m\u001b[0;36m3\u001b[0m\u001b[0;34m\u001b[0m\u001b[0m\n\u001b[1;32m      3\u001b[0m \u001b[0mb\u001b[0m\u001b[0;34m=\u001b[0m\u001b[0;34m(\u001b[0m\u001b[0;36m1\u001b[0m\u001b[0;34m,\u001b[0m\u001b[0;36m1\u001b[0m\u001b[0;34m)\u001b[0m\u001b[0;34m\u001b[0m\u001b[0m\n\u001b[0;32m----> 4\u001b[0;31m \u001b[0mprint\u001b[0m\u001b[0;34m(\u001b[0m\u001b[0ma\u001b[0m\u001b[0;34m+\u001b[0m\u001b[0mb\u001b[0m\u001b[0;34m)\u001b[0m\u001b[0;34m\u001b[0m\u001b[0m\n\u001b[0m",
      "\u001b[0;31mTypeError\u001b[0m: unsupported operand type(s) for +: 'int' and 'tuple'"
     ]
    }
   ],
   "source": [
    "#Autre exemple\n",
    "a=3\n",
    "b=(1,1)\n",
    "print(a+b)"
   ]
  },
  {
   "cell_type": "markdown",
   "metadata": {},
   "source": [
    "Toutefois, lorsque cela a du sens, on peut faire une opération entre deux objets de types différents"
   ]
  },
  {
   "cell_type": "code",
   "execution_count": 31,
   "metadata": {},
   "outputs": [
    {
     "name": "stdout",
     "output_type": "stream",
     "text": [
      "BonjourBonjour\n"
     ]
    }
   ],
   "source": [
    "#Exemple\n",
    "a=\"Bonjour\"\n",
    "b=2\n",
    "print(b*a)"
   ]
  },
  {
   "cell_type": "code",
   "execution_count": 35,
   "metadata": {},
   "outputs": [
    {
     "name": "stdout",
     "output_type": "stream",
     "text": [
      "(3, 5, 3, 5, 3, 5)\n"
     ]
    }
   ],
   "source": [
    "#Autre Exemple\n",
    "a=(3,5)\n",
    "b=3\n",
    "print(a*b)"
   ]
  },
  {
   "cell_type": "markdown",
   "metadata": {},
   "source": [
    "    b. erreurs dues à la différence entre l'écriture mathématique et l'écriture dans python"
   ]
  },
  {
   "cell_type": "markdown",
   "metadata": {},
   "source": [
    "Dans l'écriture mathématique, l'opération de multiplication peut être implicite et celle de puissance remplacée par une mise en exposant. Cela n'est pas possible dans le langage python."
   ]
  },
  {
   "cell_type": "code",
   "execution_count": 37,
   "metadata": {},
   "outputs": [
    {
     "ename": "SyntaxError",
     "evalue": "invalid syntax (<ipython-input-37-960678c2de33>, line 3)",
     "output_type": "error",
     "traceback": [
      "\u001b[0;36m  File \u001b[0;32m\"<ipython-input-37-960678c2de33>\"\u001b[0;36m, line \u001b[0;32m3\u001b[0m\n\u001b[0;31m    print(2x+3)\u001b[0m\n\u001b[0m           ^\u001b[0m\n\u001b[0;31mSyntaxError\u001b[0m\u001b[0;31m:\u001b[0m invalid syntax\n"
     ]
    }
   ],
   "source": [
    "#Exemple\n",
    "x=3\n",
    "print(2x+3)"
   ]
  },
  {
   "cell_type": "code",
   "execution_count": 39,
   "metadata": {},
   "outputs": [
    {
     "name": "stdout",
     "output_type": "stream",
     "text": [
      "1\n"
     ]
    }
   ],
   "source": [
    "#Autre exemple ^ est en python l'opérateur OU EXCLUSIF\n",
    "x=3^2\n",
    "print(x)"
   ]
  },
  {
   "cell_type": "code",
   "execution_count": 3,
   "metadata": {},
   "outputs": [
    {
     "name": "stdin",
     "output_type": "stream",
     "text": [
      "donner un premier entier 3\n",
      "donner un deuxième entier 4\n"
     ]
    },
    {
     "name": "stdout",
     "output_type": "stream",
     "text": [
      "la somme de vaut deux entiers vaut34\n"
     ]
    }
   ],
   "source": [
    "# Exercice 6\n",
    "# On considère le code suivant :\n",
    "x=input(\"donner un premier entier\")\n",
    "y=input(\"donner un deuxième entier\")\n",
    "z=x+y\n",
    "print(\"la somme de vos deux entiers vaut\"+z)\n",
    "\n",
    "# Question : Expliquer le problème rencontré.\n",
    "#\n",
    "#\n",
    "#"
   ]
  },
  {
   "cell_type": "markdown",
   "metadata": {},
   "source": [
    "    4. La concaténation et le formatage"
   ]
  },
  {
   "cell_type": "markdown",
   "metadata": {},
   "source": [
    "Il est possible de concaténer deux chaines de caractères à l'aide de l'opérateur + ."
   ]
  },
  {
   "cell_type": "code",
   "execution_count": 42,
   "metadata": {},
   "outputs": [
    {
     "name": "stdout",
     "output_type": "stream",
     "text": [
      "Hello world!\n"
     ]
    }
   ],
   "source": [
    "#Exemple\n",
    "x=\"Hello\"\n",
    "y=\"world\"\n",
    "print(x+\" \"+y+\"!\")"
   ]
  },
  {
   "cell_type": "markdown",
   "metadata": {},
   "source": [
    "Il est également possible de répeter un texte plusieurs à l'aide de l'opérateur * ."
   ]
  },
  {
   "cell_type": "code",
   "execution_count": 43,
   "metadata": {},
   "outputs": [
    {
     "name": "stdout",
     "output_type": "stream",
     "text": [
      "Ca va ! Ca va ! Ca va ! Ca va ! \n"
     ]
    }
   ],
   "source": [
    "#Exemple\n",
    "x='Ca va ! '\n",
    "print(4*x)"
   ]
  },
  {
   "cell_type": "markdown",
   "metadata": {},
   "source": [
    "Par contre n'oubliez pas les erreurs possibles."
   ]
  },
  {
   "cell_type": "code",
   "execution_count": 44,
   "metadata": {},
   "outputs": [
    {
     "ename": "TypeError",
     "evalue": "must be str, not int",
     "output_type": "error",
     "traceback": [
      "\u001b[0;31m---------------------------------------------------------------------------\u001b[0m",
      "\u001b[0;31mTypeError\u001b[0m                                 Traceback (most recent call last)",
      "\u001b[0;32m<ipython-input-44-bb3c01b4cdb3>\u001b[0m in \u001b[0;36m<module>\u001b[0;34m()\u001b[0m\n\u001b[1;32m      3\u001b[0m \u001b[0my\u001b[0m\u001b[0;34m=\u001b[0m\u001b[0;34m'age :'\u001b[0m\u001b[0;34m\u001b[0m\u001b[0m\n\u001b[1;32m      4\u001b[0m \u001b[0mz\u001b[0m\u001b[0;34m=\u001b[0m\u001b[0;34m' ans'\u001b[0m\u001b[0;34m\u001b[0m\u001b[0m\n\u001b[0;32m----> 5\u001b[0;31m \u001b[0mprint\u001b[0m\u001b[0;34m(\u001b[0m\u001b[0my\u001b[0m\u001b[0;34m+\u001b[0m\u001b[0mx\u001b[0m\u001b[0;34m+\u001b[0m\u001b[0mz\u001b[0m\u001b[0;34m)\u001b[0m\u001b[0;34m\u001b[0m\u001b[0m\n\u001b[0m",
      "\u001b[0;31mTypeError\u001b[0m: must be str, not int"
     ]
    }
   ],
   "source": [
    "#Exemple\n",
    "x=18\n",
    "y='age :'\n",
    "z=' ans'\n",
    "print(y+x+z)"
   ]
  },
  {
   "cell_type": "code",
   "execution_count": 45,
   "metadata": {},
   "outputs": [
    {
     "name": "stdout",
     "output_type": "stream",
     "text": [
      "age :18 ans\n"
     ]
    }
   ],
   "source": [
    "#Correction\n",
    "x=18\n",
    "y='age :'\n",
    "z=' ans'\n",
    "print(y+str(x)+z)"
   ]
  },
  {
   "cell_type": "code",
   "execution_count": 46,
   "metadata": {},
   "outputs": [
    {
     "name": "stdout",
     "output_type": "stream",
     "text": [
      "age : 18  ans\n"
     ]
    }
   ],
   "source": [
    "#Ou encore\n",
    "x=18\n",
    "y='age :'\n",
    "z=' ans'\n",
    "print(y,x,z)"
   ]
  },
  {
   "cell_type": "markdown",
   "metadata": {},
   "source": [
    "On peut aussi utiliser un formatage dans les chaines de caractères."
   ]
  },
  {
   "cell_type": "code",
   "execution_count": 48,
   "metadata": {},
   "outputs": [
    {
     "name": "stdout",
     "output_type": "stream",
     "text": [
      "Il y a des pommes et des poires dans le panier\n"
     ]
    }
   ],
   "source": [
    "#Exemple\n",
    "x=\"des pommes\"\n",
    "y=\"des poires\"\n",
    "z=\"Il y a %s et %s dans le panier\" % (x,y)\n",
    "print(z)"
   ]
  },
  {
   "cell_type": "code",
   "execution_count": 51,
   "metadata": {},
   "outputs": [
    {
     "name": "stdout",
     "output_type": "stream",
     "text": [
      "Le nombre 2 et le nombre 3.141593 sont deux nombres qui interviennent dans l'équation.\n"
     ]
    }
   ],
   "source": [
    "#Avec des nombres\n",
    "x=2\n",
    "pi=3.141593\n",
    "print(\"Le nombre %d et le nombre %f sont deux nombres qui interviennent dans l'équation.\" % (x,pi))"
   ]
  },
  {
   "cell_type": "code",
   "execution_count": 3,
   "metadata": {},
   "outputs": [
    {
     "name": "stdin",
     "output_type": "stream",
     "text": [
      "Quel est votre prénom ? Brigitte\n",
      "Combien avez-vous d'invités ? 5\n"
     ]
    },
    {
     "name": "stdout",
     "output_type": "stream",
     "text": [
      "Bonjour Brigitte, pour 5 personnes, tu dois utiliser 312 grammes de farine, 0.625000 litre de lait et 4 oeuf(s)\n"
     ]
    }
   ],
   "source": [
    "#Exercice\n",
    "#Recette crèpe pour 4 personnes : 3 oeufs, 250 g de farine, 0.5 l de lait\n",
    "#Compléter le programme qui :\n",
    "#Demande le prénom de la personne, demande le nombre d'invités.\n",
    "#Affiche \"Bonjour, <prénom de la personne>, pour <nombre d'invités> personnes, tu dois utiliser <valeur entière> g de farine, \n",
    "# <valeur décimale> litre de lait et <valeur entière> oeufs\"\n",
    "# Vous utiliserez le formatage dans votre chaine de caractère\n",
    "\n",
    "prenom=input(\"...\") #Choisissez la question, prenom doit être une chaine de caractère\n",
    "nb_invite=int(input(\"...\")) #Choisissez la question, nb_invite doit être un entier\n",
    "farine=                  #Calcul de la quantité de farine\n",
    "lait=                    #idem\n",
    "oeuf=\n",
    "print(\"Bonjour ..., pour %d personnes, tu dois utiliser ... grammes de farine, ... litre de lait et ... oeuf(s)\" % (...,nb_invite,...,...,...))"
   ]
  },
  {
   "cell_type": "code",
   "execution_count": null,
   "metadata": {},
   "outputs": [],
   "source": []
  }
 ],
 "metadata": {
  "kernelspec": {
   "display_name": "Python 3",
   "language": "python",
   "name": "python3"
  },
  "language_info": {
   "codemirror_mode": {
    "name": "ipython",
    "version": 3
   },
   "file_extension": ".py",
   "mimetype": "text/x-python",
   "name": "python",
   "nbconvert_exporter": "python",
   "pygments_lexer": "ipython3",
   "version": "3.7.3"
  }
 },
 "nbformat": 4,
 "nbformat_minor": 2
}
